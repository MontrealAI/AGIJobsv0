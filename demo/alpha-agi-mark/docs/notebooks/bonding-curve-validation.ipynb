{
  "cells": [
    {
      "cell_type": "markdown",
      "metadata": {},
      "source": [
        "# \u03b1-AGI MARK Bonding Curve Validation\n",
        "This notebook mirrors the arithmetic-series pricing formulas implemented in `AlphaMarkEToken.sol`.\n",
        "It cross-checks the closed-form equations against discrete summation for a range of scenarios."
      ]
    },
    {
      "cell_type": "code",
      "metadata": {},
      "execution_count": null,
      "outputs": [],
      "source": [
        "from decimal import Decimal, getcontext\n",
        "getcontext().prec = 50\n",
        "\n",
        "def purchase_cost(base_price, slope, supply, amount):\n",
        "    base_component = base_price * amount\n",
        "    slope_component = slope * (amount * ((2 * supply) + amount - 1) / 2)\n",
        "    return base_component + slope_component\n",
        "\n",
        "def sale_return(base_price, slope, supply, amount):\n",
        "    base_component = base_price * amount\n",
        "    if amount == 0:\n",
        "        return base_component\n",
        "    slope_component = slope * (amount * ((2 * (supply - 1)) - (amount - 1)) / 2)\n",
        "    return base_component + slope_component\n",
        "\n",
        "def discrete_purchase(base_price, slope, supply, amount):\n",
        "    return sum(base_price + slope * (supply + i) for i in range(amount))\n",
        "\n",
        "def discrete_sale(base_price, slope, supply, amount):\n",
        "    return sum(base_price + slope * (supply - 1 - i) for i in range(amount))\n",
        "\n",
        "scenarios = [\n",
        "    (Decimal('0.1'), Decimal('0.05'), 0, 3, 2),\n",
        "    (Decimal('0.25'), Decimal('0.04'), 5, 4, 3),\n",
        "    (Decimal('0.5'), Decimal('0.02'), 10, 1, 5),\n",
        "]\n",
        "\n",
        "for base, slope, supply, purchase_amount, sale_amount in scenarios:\n",
        "    purchase_closed = purchase_cost(base, slope, supply, purchase_amount)\n",
        "    purchase_discrete = Decimal(discrete_purchase(base, slope, supply, purchase_amount))\n",
        "    sale_closed = sale_return(base, slope, supply + purchase_amount, sale_amount)\n",
        "    sale_discrete = Decimal(discrete_sale(base, slope, supply + purchase_amount, sale_amount))\n",
        "    print('Scenario:', base, slope, supply, purchase_amount, sale_amount)\n",
        "    print('  purchase closed   =', purchase_closed)\n",
        "    print('  purchase discrete =', purchase_discrete)\n",
        "    print('  sale closed       =', sale_closed)\n",
        "    print('  sale discrete     =', sale_discrete)\n",
        "    assert purchase_closed == purchase_discrete\n",
        "    assert sale_closed == sale_discrete\n",
        "print('All scenarios consistent.')\n"
      ]
    }
  ],
  "metadata": {
    "kernelspec": {
      "display_name": "Python 3",
      "language": "python",
      "name": "python3"
    },
    "language_info": {
      "name": "python",
      "version": "3.10"
    }
  },
  "nbformat": 4,
  "nbformat_minor": 5
}